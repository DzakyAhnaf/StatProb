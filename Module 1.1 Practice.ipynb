{
 "cells": [
  {
   "cell_type": "code",
   "execution_count": 1,
   "id": "d211dc57",
   "metadata": {},
   "outputs": [
    {
     "name": "stdout",
     "output_type": "stream",
     "text": [
      "Data: [100.5, 99.7, 101, 101.3, 99.9, 98.9, 165, 102.2, 98.7, 102.9, 100]\n",
      "Jumlah semua nilai: 1170.1000000000001\n",
      "Jumlah total data: 11\n",
      "Mean: 106.37272727272729\n",
      "\n",
      "Data berurut: [98.7, 98.9, 99.7, 99.9, 100, 100.5, 101, 101.3, 102.2, 102.9, 165]\n",
      "Jumlah total data: 11\n",
      "Jumlah total data Ganjil\n",
      "Nilai tengah: 100.5\n",
      "Median: 100.5\n"
     ]
    }
   ],
   "source": [
    "'''Diketahui tinggi badan siswa kelas A adalah 100,5 ; 99,7 ; 101 ; 101,3 ; 99,9 ; 98,9 ; 165 ; 102,2 ; 98,7 ; 102,9 ; dan 100. \n",
    "Menggunakan Mean, Median, dan Modus, coba gambarkan pusat distribusi data berikut. Manakah yang paling bagus?'''\n",
    "\n",
    "#Inisialisasi Dataset \n",
    "#sum, len, sorted\n",
    "data = [100.5, 99.7, 101, 101.3, 99.9, 98.9, 165, 102.2, 98.7, 102.9, 100]\n",
    "print(f\"Data: {data}\")\n",
    "\n",
    "\n",
    "#Mean\n",
    "jumlahNilai = sum(data)\n",
    "print(f\"Jumlah semua nilai: {jumlahNilai}\")\n",
    "\n",
    "jumlahTotalData = len(data)\n",
    "print(f\"Jumlah total data: {jumlahTotalData}\")\n",
    "\n",
    "mean = jumlahNilai / jumlahTotalData\n",
    "print(f\"Mean: {mean}\")\n",
    "print(\"\")\n",
    "\n",
    "\n",
    "#Median\n",
    "dataUrut = sorted(data)\n",
    "print(f\"Data berurut: {dataUrut}\")\n",
    "print(f\"Jumlah total data: {jumlahTotalData}\")\n",
    "\n",
    "indexTengah = jumlahTotalData // 2\n",
    "\n",
    "# Jika jumlah data genap, median adalah rata-rata dari dua nilai tengah \n",
    "if jumlahTotalData % 2 == 0:\n",
    "    print(f\"Jumlah total data Genap\")\n",
    "    median1 = dataUrut[indexTengah]\n",
    "    median2 = dataUrut[indexTengah - 1]\n",
    "    print(f\"Nilai tengah: {median1} {median2}\")\n",
    "    median = (median1 + median2) / 2\n",
    "    \n",
    "# Jika jumlah data ganjil, median adalah nilai tengah\n",
    "else:\n",
    "    print(f\"Jumlah total data Ganjil\")\n",
    "    median = dataUrut[indexTengah]\n",
    "    print(f\"Nilai tengah: {median}\")\n",
    "\n",
    "print(f\"Median: {median}\")"
   ]
  },
  {
   "cell_type": "code",
   "execution_count": null,
   "id": "78814d88",
   "metadata": {},
   "outputs": [],
   "source": []
  }
 ],
 "metadata": {
  "kernelspec": {
   "display_name": "Python 3 (ipykernel)",
   "language": "python",
   "name": "python3"
  },
  "language_info": {
   "codemirror_mode": {
    "name": "ipython",
    "version": 3
   },
   "file_extension": ".py",
   "mimetype": "text/x-python",
   "name": "python",
   "nbconvert_exporter": "python",
   "pygments_lexer": "ipython3",
   "version": "3.11.5"
  }
 },
 "nbformat": 4,
 "nbformat_minor": 5
}
